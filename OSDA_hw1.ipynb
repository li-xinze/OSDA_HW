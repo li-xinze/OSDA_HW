{
 "cells": [
  {
   "cell_type": "markdown",
   "metadata": {},
   "source": [
    "#### Question 2"
   ]
  },
  {
   "cell_type": "code",
   "execution_count": 4,
   "metadata": {},
   "outputs": [
    {
     "name": "stdout",
     "output_type": "stream",
     "text": [
      "4231\n"
     ]
    }
   ],
   "source": [
    "import itertools\n",
    "\n",
    "def check_relation(relation_dict):\n",
    "    for i in relation_dict:\n",
    "        for j in relation_dict[i]:\n",
    "            if i in relation_dict[j]:         # check asymmetric            \n",
    "                return False\n",
    "            for k in relation_dict[j]:   \n",
    "                if k not in relation_dict[i]: # check transitive\n",
    "                    return False\n",
    "    return True\n",
    "def count_relations(n):\n",
    "    max_pairs_num = (n**2-n)//2 \n",
    "    pairs = [[i, j] for j in range(n) for i in range(n) if i != j]      \n",
    "    count = 0\n",
    "    for pairs_num in range(max_pairs_num + 1): \n",
    "        for relation_pairs in itertools.combinations(pairs, pairs_num): \n",
    "            relation_dict = {i : [] for i in range(n)}                     \n",
    "            for rp in relation_pairs:\n",
    "                relation_dict[rp[0]].append(rp[1])\n",
    "            if check_relation(relation_dict):\n",
    "                count += 1 \n",
    "    print(count) \n",
    "count_relations(5)"
   ]
  },
  {
   "cell_type": "markdown",
   "metadata": {},
   "source": [
    "#### Question 3 "
   ]
  },
  {
   "cell_type": "code",
   "execution_count": 5,
   "metadata": {},
   "outputs": [
    {
     "name": "stdout",
     "output_type": "stream",
     "text": [
      "['A', 'B', 'C', 'D', 'E', 'F']\n"
     ]
    }
   ],
   "source": [
    "def TopologicalSort(G):\n",
    "    in_degrees = dict((u, 0) for u in G)    #1\n",
    "    vertex_num = len(in_degrees)\n",
    "    for u in G:                             #2\n",
    "        for v in G[u]:\n",
    "            in_degrees[v] += 1\n",
    "    Q = [u for u in G if in_degrees[u] == 0]#3\n",
    "    res = []\n",
    "    while Q:\n",
    "        u = Q.pop(0)                        #4\n",
    "        res.append(u)\n",
    "        for v in G[u]:\n",
    "            in_degrees[v] -= 1              #5\n",
    "            if in_degrees[v] == 0:          #6\n",
    "                Q.append(v)\n",
    "    if len(res) == vertex_num:\n",
    "        return res\n",
    "    else:\n",
    "        print(\"there's a circle.\")\n",
    "\n",
    "graph = {\n",
    "    \"A\": [\"B\",\"C\"],\n",
    "    \"B\": [\"D\",\"E\"],\n",
    "    \"C\": [\"D\",\"E\"],\n",
    "    \"D\": [\"F\"],\n",
    "    \"E\": [\"F\"],\n",
    "    \"F\": [],\n",
    "}\n",
    "print(TopologicalSort(graph))"
   ]
  },
  {
   "cell_type": "code",
   "execution_count": 6,
   "metadata": {},
   "outputs": [
    {
     "name": "stdout",
     "output_type": "stream",
     "text": [
      "['A', 'B', 'C', 'D', 'E', 'F']\n"
     ]
    }
   ],
   "source": [
    "def TopologicalSort(G,V):\n",
    "    in_degrees = dict((u, 0) for u in V)      \n",
    "    vetex_num = dict((v, n) for v,n in \n",
    "        zip(V,[i for i in range(len(V))]))\n",
    "    vertex_num = len(in_degrees)\n",
    "    for u in G:\n",
    "        i = 0\n",
    "        for v in u:\n",
    "            in_degrees[V[i]] += v\n",
    "            i += 1\n",
    "    Q = [u for u in V if in_degrees[u] == 0]\n",
    "    res = []\n",
    "    while Q:\n",
    "        u = Q.pop(0)\n",
    "        res.append(u)\n",
    "        i = 0\n",
    "        for v in G[vetex_num[u]]:\n",
    "            if v == 1:\n",
    "                in_degrees[V[i]] -= 1\n",
    "                if in_degrees[V[i]] == 0:\n",
    "                    Q.append(V[i])\n",
    "            i += 1\n",
    "    if len(res) == vertex_num:\n",
    "        return res\n",
    "    else: print(\"there's a circle.\")\n",
    "graph = [\n",
    "    [0,1,1,0,0,0],\n",
    "    [0,0,0,1,1,0],\n",
    "    [0,0,0,1,1,0],\n",
    "    [0,0,0,0,0,1],\n",
    "    [0,0,0,0,0,1],\n",
    "    [0,0,0,0,0,0]]\n",
    "vertexes = ['A','B','C','D','E','F']\n",
    "print(TopologicalSort(graph,vertexes))"
   ]
  }
 ],
 "metadata": {
  "kernelspec": {
   "display_name": "Python 3",
   "language": "python",
   "name": "python3"
  },
  "language_info": {
   "codemirror_mode": {
    "name": "ipython",
    "version": 3
   },
   "file_extension": ".py",
   "mimetype": "text/x-python",
   "name": "python",
   "nbconvert_exporter": "python",
   "pygments_lexer": "ipython3",
   "version": "3.7.6"
  }
 },
 "nbformat": 4,
 "nbformat_minor": 4
}
